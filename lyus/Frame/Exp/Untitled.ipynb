{
 "cells": [
  {
   "cell_type": "code",
   "execution_count": 49,
   "id": "60b7b341-ee24-4c8a-9dda-266bacbd58e3",
   "metadata": {},
   "outputs": [],
   "source": [
    "class BindParam(object):\n",
    "    \n",
    "    def __init__(self, param, key):\n",
    "        self.param = param\n",
    "        self.key = key\n",
    "\n",
    "    def get(self):\n",
    "        return self.param[self.key]\n",
    "    \n",
    "    def set(self, value):\n",
    "        self.param[self.key] = value\n",
    "    def __str__(self):\n",
    "        return f\"BindParam({self.param.param_name}.{self.key}={self.get()})\""
   ]
  },
  {
   "cell_type": "code",
   "execution_count": 50,
   "id": "d9d817e4-a4da-49e2-9d68-c8f0c7980ee0",
   "metadata": {},
   "outputs": [],
   "source": [
    "\"\"\"\n",
    "\n",
    "20221028\n",
    "\n",
    "\n",
    "\"\"\"\n",
    "import copy,sys\n",
    "from collections  import  OrderedDict\n",
    "\n",
    "class Param(object):\n",
    "    def __init__(self, param_name=\"param\", **kargs):\n",
    "        self._param_name = param_name\n",
    "        self.regist_from_dict(kargs)\n",
    "\n",
    "\n",
    "    def regist_from_dict(self, _dict):\n",
    "        assert isinstance(_dict, dict)\n",
    "        for key, val in _dict.items():\n",
    "            self.check_key(key)\n",
    "            self.set(key, val)\n",
    "        return self\n",
    "\n",
    "    def regist_child(self, param_name: str, init_param=None):\n",
    "        self[param_name] = init_param.clone() if init_param is not None else Param()\n",
    "        return self[param_name]\n",
    "\n",
    "    @property\n",
    "    def name(self):\n",
    "        name = self._param_name.split(\".\")[-1]\n",
    "        return name\n",
    "\n",
    "    @property\n",
    "    def param_name(self):\n",
    "        return self._param_name\n",
    "\n",
    "    def check_key(self, key):\n",
    "        assert (key != \"param_name\")\n",
    "        assert (key != \"name\")\n",
    "        assert (key != \"keys\")\n",
    "        assert (key != \"vals\")\n",
    "        assert (key != \"items\")\n",
    "\n",
    "    def update_name(self, last_name, key):\n",
    "        self._param_name = last_name + \".\" + key\n",
    "        for key, val in self.__dict__.items():\n",
    "            if isinstance(val, Param):\n",
    "                val.update_name(self._param_name, key)\n",
    "\n",
    "\n",
    "    # 功能 A[\"a\"]\n",
    "    def __setitem__(self, key, value):\n",
    "        super(Param, self).__setattr__(key, value)\n",
    "        if isinstance(value, Param):\n",
    "            value.update_name(self._param_name, key)\n",
    "\n",
    "    # self.__dict__[key] = value\n",
    "    def __getitem__(self, attr):\n",
    "        # print(attr)\n",
    "        return self.__getattribute__(attr)\n",
    "\n",
    "\n",
    "    def __delitem__(self, key):\n",
    "        try:\n",
    "            del self.__dict__[key]\n",
    "        except KeyError as k:\n",
    "            return None\n",
    "\n",
    "    # 功能  A.a\n",
    "    def __setattr__(self, key, value):\n",
    "        if hasattr(self,key) and isinstance(self[key],BindParam):\n",
    "            self[key].set(value)\n",
    "            print(\"set bind param {}\".format(key))\n",
    "        else:\n",
    "            super(Param, self).__setattr__(key, value)\n",
    "            if isinstance(value, Param):\n",
    "                value.update_name(self._param_name, key)\n",
    "\n",
    "        \n",
    "    def __getattribute__(self, attr):\n",
    "        # print(attr)\n",
    "        value=super(Param, self).__getattribute__(attr)\n",
    "        if isinstance(value,BindParam):\n",
    "            value=value.get()\n",
    "        return value\n",
    "\n",
    "\n",
    "    # \t\"\"\"|\n",
    "    # \t重载此函数防止属性不存在时__getattribute__报错，而是返回None\n",
    "    # \t那“_ getattribute_”与“_ getattr_”的最大差异在于：\n",
    "    # \t1. 无论调用对象的什么属性，包括不存在的属性，都会首先调用“_ getattribute_”方法；\n",
    "    # \t2. 只有找不到对象的属性时，才会调用“_ getattr_”方法；\n",
    "    # \t:param attr:\n",
    "    # \t:return:\n",
    "    # \t\"\"\"\n",
    "    # \treturn super(Param, self).__getattr__(attr)\n",
    "    # raise Exception(\"attr:[{}] is not existing\".format(attr))\n",
    "    def __delattr__(self, key):\n",
    "        try:\n",
    "            del self.__dict__[key]\n",
    "        except KeyError as k:\n",
    "            return None\n",
    "\n",
    "    # def __str__(self):\n",
    "    # \tstring=\"\"\n",
    "    # \tfor key,val in self.__dict__.items():\n",
    "    # \t\tif key is \"_name\": continue\n",
    "    # \t\tif isinstance(val,Param):\n",
    "    # \t\t\tstring += self._name + \"{}=Param()\\n\".format(key)\n",
    "    # \t\t\tstring +=\"{}\".format(val)\n",
    "    # \t\telse:\n",
    "    # \t\t\tstring +=self._name+\"{}={}\\n\".format(key,val)\n",
    "    # \treturn string\n",
    "    def __str__(self):\n",
    "        string = self._param_name + \"=Param()\\n\"\n",
    "        for key, val in self.__dict__.items():\n",
    "            if key == \"_param_name\": continue\n",
    "            if isinstance(val, Param):\n",
    "                string += str(val)\n",
    "            elif isinstance(val, str):\n",
    "                string += self._param_name + \".{}='{}'\\n\".format(key, val)\n",
    "\n",
    "            else:\n",
    "                string += self._param_name + \".{}={}\\n\".format(key, val)\n",
    "        return string\n",
    "\n",
    "    def __len__(self):\n",
    "        return len(self.keys())\n",
    "\n",
    "    def keys(self):\n",
    "        keys = [key for key in self.__dict__.keys() if key != \"_param_name\"]\n",
    "        return keys\n",
    "\n",
    "    def values(self):\n",
    "        return [self[key] for key in self.keys()]\n",
    "\n",
    "    def items(self):\n",
    "        return [item for item in self if item[0] in self.keys()]\n",
    "\n",
    "\n",
    "    def get(self, k, v, separator=\".\"):\n",
    "        if separator not in k:\n",
    "            return self[k]\n",
    "        else:\n",
    "            _param=self\n",
    "            pointers= k.split(separator)\n",
    "            for _k in  pointers[:-1]:\n",
    "                _param=_param[_k]\n",
    "                assert(isinstance(_param,Param))\n",
    "            return _param[pointers[-1]]\n",
    "\n",
    "    def set(self, k, v, separator=\".\"):\n",
    "        if separator not in k:\n",
    "            self[k]=v\n",
    "        else:\n",
    "            _param=self\n",
    "            pointers= k.split(separator)\n",
    "            for _k in  pointers[:-1]:\n",
    "                _param=_param[_k]\n",
    "                assert(isinstance(_param,Param))\n",
    "            _param[pointers[-1]]=v\n",
    "    def bind(self,param,key):\n",
    "        self[key]=BindParam(param,key)\n",
    "\n",
    "    def hasattr(self,k,separator=\".\"):\n",
    "        if separator not in k:\n",
    "            return hasattr(self,k)\n",
    "        else:\n",
    "            cul_key=k.split(separator)[0]\n",
    "            if not hasattr(self,cul_key):\n",
    "                return False\n",
    "            else:\n",
    "                child_param = self[cul_key]\n",
    "                child_key = k[len(cul_key) + 1:]\n",
    "                assert (isinstance(child_param, Param))\n",
    "                return child_param.hasattr(child_key)\n",
    "\n",
    "    def clone(self):\n",
    "        return copy.deepcopy(self)\n"
   ]
  },
  {
   "cell_type": "code",
   "execution_count": 55,
   "id": "f8be9183-3370-4638-92c9-4f6bef477c1e",
   "metadata": {},
   "outputs": [],
   "source": [
    "\n",
    "base_param = Param()\n",
    "base_param.repeat=1\n",
    "\n",
    "DATA_ROOT=\"/media/lyushuai/Data/DATASET/multi_garde_2/\"\n",
    "\n",
    "mu=[0,0.333,0.666,1]\n",
    "# sigma=[0.01]+[0.035]*3\n",
    "base_param.model=Param(option=\"OrdNetwork\")\n",
    "sigma=0.035\n",
    "base_param.task=\"train\"\n",
    "\n",
    "teatch_model=\"./OUTPUT/base_param,model.option-OrdNetwork,model.OrdNetwork.stds-0.05/checkpoint/OrdNetwork_epo0150.pth\"\n",
    "base_param.model.input_size=(512,512)\n",
    "base_param.model.OrdNetwork=Param(out_layer=3,means=mu, stds=sigma,optim_style=\"log_prob\",tau=0.1)\n",
    "base_param.model.GradeClassNetwork=Param(out_layer=3,tau=0.3, alpha=10,optim_style=\"consim_mse\")\n",
    "\n",
    "base_param.model.DistillModel=Param(out_layer=2,means=mu, stds=sigma,optim_style=\"log_prob\",\n",
    "                                       distill_weight=1,gls_loss_weight=1,distill_method=\"mse\",\n",
    "        t_model_path=teatch_model)\n",
    "base_param.model.DistillModel.distill_weight=1\n",
    "base_param.model.MultiClassNet=Param(out_layer=len(mu))\n",
    "\n",
    "base_param.model.CplNet=Param(model_name=\"R18_512_SPE\",num_ranks=4,tau=0.11,loss_lam=5.0)\n",
    "#\n",
    "# base_param.gls_loss=ET.Param(means=mu, stds=sigma,\n",
    "#                              optim_style=\"noise_label\")\n",
    "base_param.data=Param()\n",
    "base_param.data.root=DATA_ROOT\n",
    "base_param.data.config_name=\"train_vaild_ratio_82_G4C3\"\n",
    "base_param.data.img_size=(128,128)\n",
    "base_param.data.means=[0.485, 0.456, 0.406]\n",
    "base_param.data.stds=[0.229, 0.224, 0.225]\n",
    "\n",
    "\n",
    "base_param.data.bind(base_param.model,\"input_size\")\n",
    "\n",
    "base_param.data.input_size1= BindParam(base_param.model,\"input_size\")"
   ]
  },
  {
   "cell_type": "code",
   "execution_count": 52,
   "id": "1796c655-4e34-477e-9ed1-6e686a77be9a",
   "metadata": {},
   "outputs": [
    {
     "name": "stdout",
     "output_type": "stream",
     "text": [
      "(512, 512)\n"
     ]
    }
   ],
   "source": [
    "print(base_param.data[\"input_size\"])"
   ]
  },
  {
   "cell_type": "code",
   "execution_count": 56,
   "id": "54c590c8-9f88-4dda-bef0-368dbedb5d03",
   "metadata": {},
   "outputs": [
    {
     "name": "stdout",
     "output_type": "stream",
     "text": [
      "(512, 512)\n"
     ]
    }
   ],
   "source": [
    "print(base_param.data.input_size1)"
   ]
  },
  {
   "cell_type": "code",
   "execution_count": 57,
   "id": "520ed53b-fd20-4ab4-8b1f-1b1a7519adbf",
   "metadata": {},
   "outputs": [
    {
     "name": "stdout",
     "output_type": "stream",
     "text": [
      "1\n"
     ]
    }
   ],
   "source": [
    "base_param.model.input_size=1\n",
    "print(base_param.data.input_size1)"
   ]
  },
  {
   "cell_type": "code",
   "execution_count": 58,
   "id": "7d2bdaa6-d970-4fec-ab34-65898af284f0",
   "metadata": {},
   "outputs": [],
   "source": [
    "parm=base_param.clone()"
   ]
  },
  {
   "cell_type": "code",
   "execution_count": 59,
   "id": "baf19cfa-acd1-487f-a6a3-c15ecbb3150a",
   "metadata": {},
   "outputs": [
    {
     "name": "stdout",
     "output_type": "stream",
     "text": [
      "2\n"
     ]
    }
   ],
   "source": [
    "parm.model.input_size=2\n",
    "print(parm.data.input_size1)"
   ]
  },
  {
   "cell_type": "code",
   "execution_count": 60,
   "id": "f8a2eaa8-4f87-42b8-b6e8-1dbe7475fadd",
   "metadata": {},
   "outputs": [
    {
     "name": "stdout",
     "output_type": "stream",
     "text": [
      "1\n"
     ]
    }
   ],
   "source": [
    "print(base_param.data.input_size1)"
   ]
  },
  {
   "cell_type": "code",
   "execution_count": 61,
   "id": "202b2660-71a1-433d-a99d-ca66de927d07",
   "metadata": {},
   "outputs": [
    {
     "name": "stdout",
     "output_type": "stream",
     "text": [
      "1\n"
     ]
    }
   ],
   "source": [
    "print(base_param.data.input_size)"
   ]
  },
  {
   "cell_type": "code",
   "execution_count": null,
   "id": "dd1c0a43-116e-4ced-ba7d-a2076758f1d8",
   "metadata": {},
   "outputs": [],
   "source": []
  }
 ],
 "metadata": {
  "kernelspec": {
   "display_name": "Python 3 (ipykernel)",
   "language": "python",
   "name": "python3"
  },
  "language_info": {
   "codemirror_mode": {
    "name": "ipython",
    "version": 3
   },
   "file_extension": ".py",
   "mimetype": "text/x-python",
   "name": "python",
   "nbconvert_exporter": "python",
   "pygments_lexer": "ipython3",
   "version": "3.9.7"
  }
 },
 "nbformat": 4,
 "nbformat_minor": 5
}
